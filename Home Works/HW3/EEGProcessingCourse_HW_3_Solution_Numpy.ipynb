{
  "cells": [
    {
      "cell_type": "markdown",
      "metadata": {
        "id": "qboUkWqjC2uc"
      },
      "source": [
        "# Spike Computational Neuroscience Community\n",
        "<div style=\"font-family: Arial, sans-serif; margin: 20px;\">\n",
        "    <h1 style=\"text-align: center; color: #333;\">EEG Processing: An Entry to the World of Brain Waves</h1>\n",
        "    <h2 style=\"text-align: center; color: #555;\">Home Work 4: Python - Numpy</h2>\n",
        "    <p style=\"text-align: center; color: #666; font-size: 16px;\">\n",
        "        Author: Mohammadreza Shahsavari<br>\n",
        "        Contact: <a href=\"mailto:mohamadrezashahsavary@gmail.com\" style=\"color: #0066cc; text-decoration: none;\">mohamadrezashahsavary@gmail.com</a>\n",
        "    </p>\n",
        "</div>\n",
        "\n",
        "\n",
        "\n",
        "\n",
        "\n"
      ]
    },
    {
      "cell_type": "markdown",
      "metadata": {
        "id": "xShV_cRXXsnz"
      },
      "source": [
        "# 1. Download and Inspect the EEG Data\n",
        "\n",
        "After running the first cell that downloads the EEG `.mat` data into `eeg_mat_path`, your task is to inspect the structure of the data. Print the **number of channels** and the **number of time points (samples)** for each channel. This will help you understand the dimensions of the data.\n",
        "\n",
        "**Questions**:\n",
        "\n",
        "*   Why is this important?\n",
        "\n",
        "\n",
        "\n",
        "\n"
      ]
    },
    {
      "cell_type": "markdown",
      "metadata": {
        "id": "OEH2xJlNsMUK"
      },
      "source": [
        "## Run the Below Cell to Download the EDF Data\n"
      ]
    },
    {
      "cell_type": "code",
      "execution_count": null,
      "metadata": {
        "colab": {
          "base_uri": "https://localhost:8080/"
        },
        "id": "UH99dmHDsLSg",
        "outputId": "0c3b4188-d591-4911-f927-2a911aa241e4"
      },
      "outputs": [
        {
          "output_type": "stream",
          "name": "stdout",
          "text": [
            "Collecting pyEDFlib\n",
            "  Downloading pyEDFlib-0.1.38-cp310-cp310-manylinux_2_17_x86_64.manylinux2014_x86_64.whl.metadata (6.3 kB)\n",
            "Requirement already satisfied: numpy>=1.9.1 in /usr/local/lib/python3.10/dist-packages (from pyEDFlib) (1.26.4)\n",
            "Downloading pyEDFlib-0.1.38-cp310-cp310-manylinux_2_17_x86_64.manylinux2014_x86_64.whl (2.7 MB)\n",
            "\u001b[2K   \u001b[90m━━━━━━━━━━━━━━━━━━━━━━━━━━━━━━━━━━━━━━━━\u001b[0m \u001b[32m2.7/2.7 MB\u001b[0m \u001b[31m11.5 MB/s\u001b[0m eta \u001b[36m0:00:00\u001b[0m\n",
            "\u001b[?25hInstalling collected packages: pyEDFlib\n",
            "Successfully installed pyEDFlib-0.1.38\n"
          ]
        },
        {
          "output_type": "stream",
          "name": "stderr",
          "text": [
            "Downloading...\n",
            "From (original): https://drive.google.com/uc?id=1G-COaUG7JZrTFWJPKZ7He2xt4dpf_zhy\n",
            "From (redirected): https://drive.google.com/uc?id=1G-COaUG7JZrTFWJPKZ7He2xt4dpf_zhy&confirm=t&uuid=0c623474-f8d3-40aa-b84c-7278e909aad0\n",
            "To: /content/S001R01.mat\n",
            "100%|██████████| 5.00M/5.00M [00:00<00:00, 45.6MB/s]\n"
          ]
        },
        {
          "output_type": "stream",
          "name": "stdout",
          "text": [
            "\n",
            "\n",
            "EEG files are downloaded and can be dound in the following paths:\n",
            "/content/S001R01.mat\n",
            "total 4888\n",
            "-rw-r--r-- 1 root root 4997696 Aug 24 09:59 S001R01.mat\n",
            "drwxr-xr-x 1 root root    4096 Aug 22 13:24 sample_data\n"
          ]
        }
      ],
      "source": [
        "# Installing the required library for reading EDF files\n",
        "!pip install pyEDFlib\n",
        "\n",
        "# Dowloading the EDF data\n",
        "import gdown\n",
        "import os\n",
        "\n",
        "eeg_edf_url = 'https://drive.google.com/uc?id=1G-COaUG7JZrTFWJPKZ7He2xt4dpf_zhy'\n",
        "\n",
        "eeg_edf_file_name = 'S001R01.mat'\n",
        "\n",
        "\n",
        "gdown.download(eeg_edf_url, eeg_edf_file_name, quiet=False)\n",
        "\n",
        "eeg_mat_path = os.path.join('/content', eeg_edf_file_name)\n",
        "\n",
        "print('\\n\\nEEG files are downloaded and can be dound in the following paths:')\n",
        "print(eeg_mat_path)\n",
        "\n",
        "!ls -l /content"
      ]
    },
    {
      "cell_type": "markdown",
      "metadata": {
        "id": "tZfRdoAf823A"
      },
      "source": [
        "##Load the EDF File to Pyton and Inspect the EEG Data in the Cell Below"
      ]
    },
    {
      "cell_type": "code",
      "execution_count": null,
      "metadata": {
        "colab": {
          "base_uri": "https://localhost:8080/"
        },
        "id": "IIy7Vg4lYKt0",
        "outputId": "06386708-51cf-4464-82d5-c5ca6f35ff83"
      },
      "outputs": [
        {
          "output_type": "stream",
          "name": "stdout",
          "text": [
            "dict_keys(['__header__', '__version__', '__globals__', 'signals', 'labels', 'duration'])\n"
          ]
        }
      ],
      "source": [
        "from scipy.io import loadmat\n",
        "\n",
        "eeg_data = loadmat(eeg_mat_path)\n",
        "\n",
        "\n",
        "#print(eeg_data.keys())\n",
        "\n",
        "\n",
        "\n",
        "n_samples = eeg_data['signals'].shape[1]\n",
        "duration = eeg_data['duration'][0][0]\n",
        "\n",
        "\n",
        "eeg_signals = eeg_data['signals']\n",
        "\n",
        "print(eeg_data.keys())\n",
        "\n",
        "sampling_rate = int(n_samples/duration)\n",
        "\n",
        "\n"
      ]
    },
    {
      "cell_type": "markdown",
      "metadata": {
        "id": "l4bzsK8tYPUu"
      },
      "source": [
        "# 2. Select Specific Channels and Data Segments\n",
        "\n",
        "Now that you're familiar with the data structure, extract the `first 32 channels` and the `first 10 seconds` of the signals. Verify the dimensions of the extracted data to ensure accuracy.\n",
        "\n",
        "**Questions**\n",
        "* Why is this important?\n",
        "\n"
      ]
    },
    {
      "cell_type": "code",
      "execution_count": null,
      "metadata": {
        "colab": {
          "base_uri": "https://localhost:8080/"
        },
        "id": "hmjcMd56YZU6",
        "outputId": "6fee756f-945b-4101-bf93-b8332d450649"
      },
      "outputs": [
        {
          "output_type": "stream",
          "name": "stdout",
          "text": [
            "(32, 1600)\n"
          ]
        }
      ],
      "source": [
        "selected_eeg_data = eeg_signals[0:32, 0:10*sampling_rate]\n",
        "\n",
        "print(selected_eeg_data.shape)"
      ]
    },
    {
      "cell_type": "markdown",
      "metadata": {
        "id": "JtFumBKkYiwM"
      },
      "source": [
        "# 3. Calculate Mean and Standard Deviation\n",
        "\n",
        "Next, calculate the **mean** and **standard deviation** for each selected channel. The mean provides an average value over time, while the standard deviation gives insight into how much the data fluctuates around that mean.\n",
        "\n",
        "**Questions:**\n",
        "\n",
        "  * Why are these statistical measures useful in analyzing EEG data?\n",
        "\n"
      ]
    },
    {
      "cell_type": "code",
      "execution_count": null,
      "metadata": {
        "colab": {
          "base_uri": "https://localhost:8080/"
        },
        "id": "Hn2ClrLHZBDm",
        "outputId": "80bdeaf9-3f34-4847-ea9b-12284a1e91ad"
      },
      "outputs": [
        {
          "output_type": "stream",
          "name": "stdout",
          "text": [
            "(64, 9760)\n",
            "(64,)\n"
          ]
        }
      ],
      "source": [
        "import numpy as np\n",
        "\n",
        "print(eeg_signals.shape)\n",
        "\n",
        "channel_means = np.mean(eeg_signals, axis=1)\n",
        "\n",
        "print(channel_means.shape)\n",
        "\n",
        "\n",
        "\n"
      ]
    },
    {
      "cell_type": "markdown",
      "metadata": {
        "id": "Gs8SABe3ZBMb"
      },
      "source": [
        "# 4. Check for NaN Values and Fill Them\n",
        "\n",
        "Check if there are any **NaN (Not a Number)** values in the data. If any NaN values are found, fill these missing values using <u> the mean of the previous and next time step in that particular channel</u>\n",
        ".\n",
        "\n",
        "**Questions:**\n",
        "\n",
        "- What are NaN values?\n",
        "- How might NaN values be introduced into EEG data?\n",
        "\n"
      ]
    },
    {
      "cell_type": "code",
      "execution_count": null,
      "metadata": {
        "id": "2gFTWBx8ZMol"
      },
      "outputs": [],
      "source": [
        "for channel_indx in range(eeg_signals.shape[0]):\n",
        "  eeg_channel = eeg_signals[channel_indx]\n",
        "  for sample_indx in range (eeg_channel.shape[0] - 1):\n",
        "    if np.isnan(eeg_signals)[channel_indx, sample_indx]:\n",
        "      if np.isnan(eeg_signals)[channel_indx, sample_indx + 1]:\n",
        "        eeg_signals[channel_indx, sample_indx] = (eeg_signals[channel_indx, sample_indx - 1] + eeg_signals[channel_indx, sample_indx + 2]) / 2\n",
        "      else:\n",
        "        eeg_signals[channel_indx, sample_indx] = (eeg_signals[channel_indx, sample_indx - 1] + eeg_signals[channel_indx, sample_indx + 1]) / 2\n",
        "\n",
        "\n"
      ]
    },
    {
      "cell_type": "code",
      "execution_count": null,
      "metadata": {
        "colab": {
          "base_uri": "https://localhost:8080/"
        },
        "id": "D135D9SHfSAW",
        "outputId": "9e9819f8-0652-48fa-93c7-1977285cfb02"
      },
      "outputs": [
        {
          "output_type": "stream",
          "name": "stdout",
          "text": [
            "0\n"
          ]
        }
      ],
      "source": [
        "print(np.sum(np.isnan(eeg_signals)))"
      ]
    },
    {
      "cell_type": "markdown",
      "metadata": {
        "id": "dJ2WOqFdZMz2"
      },
      "source": [
        "# 5. Normalize the Data\n",
        "\n",
        "Normalize the data using two techniques: **Min-Max Normalization** and **Z-Normalization**.\n",
        "\n",
        "- Min-Max Normalization scales the data to a fixed range, typically between 0 and 1.\n",
        "- Z-Normalization transforms the data so that it has a mean of 0 and a standard deviation of 1.\n",
        "\n",
        "**Questions:**\n",
        "\n",
        "- Why is normalization helpful when working with EEG data?\n",
        "- wich one of the min-max or Z normalization is more important and the most frequently used?\n",
        "\n"
      ]
    },
    {
      "cell_type": "markdown",
      "metadata": {
        "id": "aS5ZlwCc9iuh"
      },
      "source": [
        "## Do min-max Normalization Here"
      ]
    },
    {
      "cell_type": "code",
      "execution_count": null,
      "metadata": {
        "id": "8tceoBhPZc5m",
        "colab": {
          "base_uri": "https://localhost:8080/",
          "height": 507
        },
        "outputId": "28f2eff7-d2e9-494c-fb2e-17585d4deace"
      },
      "outputs": [
        {
          "output_type": "display_data",
          "data": {
            "text/plain": [
              "<Figure size 640x480 with 2 Axes>"
            ],
            "image/png": "[encoded data removed]"
          },
          "metadata": {}
        }
      ],
      "source": [
        "######## ENTER YOUR CODE HERE ########\n",
        "\n",
        "channel_mins = np.min(eeg_signals, axis=1, keepdims=True)\n",
        "channel_maxs = np.max(eeg_signals, axis =1, keepdims=True)\n",
        "\n",
        "eeg_data_normalized = (eeg_signals - channel_mins) / (channel_maxs - channel_mins)\n",
        "\n",
        "\n",
        "######################################\n",
        "import matplotlib.pyplot as plt\n",
        "\n",
        "# Assuming 'eeg_data' is your original data before normalization and 'eeg_data_normalized' is your data after normalization\n",
        "# Plot original data\n",
        "plot_channel = 0  # Change this to the channel you want to plot\n",
        "plt.subplot(1, 2, 1)\n",
        "plt.plot(eeg_signals[plot_channel, :])\n",
        "plt.title('Original EEG Data (64 channels)')\n",
        "plt.xlabel('Sample Index')\n",
        "plt.ylabel('Amplitude')\n",
        "plt.legend([f'Channel {i+1}' for i in range(64)], bbox_to_anchor=(1.05, 1), loc='upper left', ncol=2)\n",
        "\n",
        "# Plot normalized data\n",
        "plt.subplot(1, 2, 2)\n",
        "plt.plot(eeg_data_normalized[plot_channel, :])\n",
        "plt.title('Normalized EEG Data (64 channels)')\n",
        "plt.xlabel('Sample Index')\n",
        "plt.ylabel('Normalized Amplitude')\n",
        "plt.legend([f'Channel {i+1}' for i in range(64)], bbox_to_anchor=(1.05, 1), loc='upper left', ncol=2)\n",
        "\n",
        "plt.tight_layout()\n",
        "plt.show()\n"
      ]
    },
    {
      "cell_type": "markdown",
      "metadata": {
        "id": "sl4t5SDV9pJF"
      },
      "source": [
        "## Do Z - Normalization Here"
      ]
    },
    {
      "cell_type": "code",
      "execution_count": null,
      "metadata": {
        "id": "LaTg5ywU9pWK"
      },
      "outputs": [],
      "source": [
        "import matplotlib.pyplot as plt\n",
        "\n",
        "######## ENTER YOUR CODE HERE ########\n",
        "eeg_data_normalized = None   # you have to calculate this\n",
        "\n",
        "\n",
        "\n",
        "######################################\n",
        "\n",
        "# Assuming 'eeg_data' is your original data before normalization and 'eeg_data_normalized' is your data after normalization\n",
        "# Plot original data\n",
        "plot_channel = 0  # Change this to the channel you want to plot\n",
        "plt.subplot(1, 2, 1)\n",
        "plt.plot(eeg_data[plot_channel, :])\n",
        "plt.title('Original EEG Data (64 channels)')\n",
        "plt.xlabel('Sample Index')\n",
        "plt.ylabel('Amplitude')\n",
        "plt.legend([f'Channel {i+1}' for i in range(64)], bbox_to_anchor=(1.05, 1), loc='upper left', ncol=2)\n",
        "\n",
        "# Plot normalized data\n",
        "plt.subplot(1, 2, 2)\n",
        "plt.plot(eeg_data_normalized[plot_channel, :])\n",
        "plt.title('Normalized EEG Data (64 channels)')\n",
        "plt.xlabel('Sample Index')\n",
        "plt.ylabel('Normalized Amplitude')\n",
        "plt.legend([f'Channel {i+1}' for i in range(64)], bbox_to_anchor=(1.05, 1), loc='upper left', ncol=2)\n",
        "\n",
        "plt.tight_layout()\n",
        "plt.show()\n"
      ]
    },
    {
      "cell_type": "markdown",
      "metadata": {
        "id": "bt2UZ4hQZsVk"
      },
      "source": [
        "# 6. Calculate Windowed Correlation Between Two Channels\n",
        "\n",
        "Calculate the correlation between the first two EEG channels. Before doing so, let's discuss windowing:\n",
        "\n",
        "**Windowing:**\n",
        "\n",
        "Windowing is the process of dividing a continuous EEG signal into smaller overlapping segments (windows) to track changes over time. This is useful for calculating correlations between EEG channels in shorter, more focused intervals.\n",
        "\n",
        "For example, with a 1-second window and a 0.5-second stride:\n",
        "\n",
        "- Start with the first window from 0 to 1 second.\n",
        "- Slide the window by 0.5 seconds to create the next one, covering 0.5 to 1.5 seconds.\n",
        "- Continue sliding the window: 1 to 2 seconds, 1.5 to 2.5 seconds, and so on.\n",
        "\n",
        "For example, with a 1-second window and 0.5-second stride, the windows would be: 0 to 1 s, 0.5 to 1.5 s, 1 to 2 s, and so on, with correlations calculated within each window.\n",
        "\n",
        "\n",
        "\n",
        "**Questions:**\n",
        "\n",
        "- Why is correlation important in EEG data analysis?\n",
        "- What are the advantages of calculating correlation using windowing compared to calculating correlation over the entire EEG signal?\n"
      ]
    },
    {
      "cell_type": "code",
      "execution_count": null,
      "metadata": {
        "id": "D0SlHss4pbm5"
      },
      "outputs": [],
      "source": [
        "# Extract Signal 1 and Signal 2 from the EEG data (channels 1 and 2)\n",
        "signal1 = eeg_data[0, :]  # Channel 1\n",
        "signal2 = eeg_data[1, :]  # Channel 2\n",
        "\n",
        "######## ENTER YOUR CODE HERE ########\n",
        "#  Find the windowed correlation between 'signal1' and 'signal2'\n",
        "\n",
        "correlation_signal = None   # You have to calculate this\n",
        "window_centers = None   # You have to calculate this\n",
        "\n",
        "######################################\n",
        "# Sampling rate and time calculation\n",
        "sampling_rate = 160  # Hz\n",
        "n_samples = eeg_data.shape[1]  # Number of samples based on the signal data\n",
        "time = np.arange(0, n_samples) / sampling_rate  # Time in seconds\n",
        "\n",
        "\n",
        "\n",
        "# Plotting the results\n",
        "fig, axs = plt.subplots(2, 1, figsize=(10, 10))\n",
        "\n",
        "# Plot both signals on the same subplot\n",
        "axs[0].plot(time, signal1, label='Channel 1')\n",
        "axs[0].plot(time, signal2, label='Channel 2', alpha=0.7)  # using alpha for transparency\n",
        "axs[0].set_title('Channel 1 and Channel 2')\n",
        "axs[0].set_xlabel('Time (seconds)')\n",
        "axs[0].set_ylabel('Amplitude')\n",
        "axs[0].legend()\n",
        "\n",
        "# Plot correlation\n",
        "axs[1].plot(window_centers, correlation_signal, label='Correlation', color='r')\n",
        "axs[1].set_title('Sliding Window Correlation')\n",
        "axs[1].set_xlabel('Time (seconds)')\n",
        "axs[1].set_ylabel('Correlation Coefficient')\n",
        "axs[1].legend()\n",
        "\n",
        "plt.tight_layout()\n",
        "plt.show()\n"
      ]
    },
    {
      "cell_type": "markdown",
      "metadata": {
        "id": "WfFrrM2Rpsax"
      },
      "source": [
        "# 7. Calculate the Functional Connectivity of the EEG Data\n",
        "\n",
        "Calculate the functional connectivity of the EEG data by computing the **correlation** between all pairs of channels. Visualize this using a **correlation matrix** (or heatmap).\n",
        "\n",
        "**Questions:**\n",
        "\n",
        "- Why is functional connectivity important?\n",
        "- What does the functional connectivity matrix (correlation matrix) look like for an n-channel EEG dataset, and how should each dimension of the matrix be interpreted?"
      ]
    },
    {
      "cell_type": "code",
      "execution_count": null,
      "metadata": {
        "id": "I1YJOQHmqGWr"
      },
      "outputs": [],
      "source": [
        "######## ENTER YOUR CODE HERE ########\n",
        "# Calculate the correlation matrix\n",
        "correlation_matrix = None   # You have to calculate this\n",
        "\n",
        "\n",
        "\n",
        "######################################\n",
        "\n",
        "import numpy as np\n",
        "from scipy.io import loadmat\n",
        "import matplotlib.pyplot as plt\n",
        "import seaborn as sns\n",
        "\n",
        "# Assuming 'correlation_matrix' is your calculated correlation matrix\n",
        "\n",
        "# Create a heatmap of the correlation matrix without annotations\n",
        "plt.figure(figsize=(12, 10))\n",
        "sns.heatmap(correlation_matrix, cmap='coolwarm')\n",
        "plt.title('EEG Functional Connectivity (Correlation Map)')\n",
        "plt.xlabel('Channel')\n",
        "plt.ylabel('Channel')\n",
        "plt.show()"
      ]
    }
  ],
  "metadata": {
    "colab": {
      "provenance": []
    },
    "kernelspec": {
      "display_name": "Python 3",
      "name": "python3"
    },
    "language_info": {
      "name": "python"
    }
  },
  "nbformat": 4,
  "nbformat_minor": 0
}