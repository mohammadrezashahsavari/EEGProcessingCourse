{
  "nbformat": 4,
  "nbformat_minor": 0,
  "metadata": {
    "colab": {
      "provenance": []
    },
    "kernelspec": {
      "name": "python3",
      "display_name": "Python 3"
    },
    "language_info": {
      "name": "python"
    }
  },
  "cells": [
    {
      "cell_type": "markdown",
      "source": [
        "# Spike Computational Neuroscience Community\n",
        "\n",
        "> Add blockquote\n",
        "\n",
        "\n",
        "\n",
        "<div style=\"font-family: Arial, sans-serif; margin: 20px;\">\n",
        "    <h1 style=\"text-align: center; color: #333;\">EEG Processing: An Entry to the World of Brain Waves</h1>\n",
        "    <h2 style=\"text-align: center; color: #555;\">Home Work 5: Functional Connectivity-Based Classification of Parkinson's Disease</h2>\n",
        "    <p style=\"text-align: center; color: #666; font-size: 16px;\">\n",
        "        Author: Mohammadreza Shahsavari<br>\n",
        "        Contact: <a href=\"mailto:mohamadrezashahsavary@gmail.com\" style=\"color: #0066cc; text-decoration: none;\">mohamadrezashahsavary@gmail.com</a>\n",
        "    </p>\n",
        "</div>\n",
        "\n",
        "\n",
        "\n",
        "\n",
        "\n"
      ],
      "metadata": {
        "id": "3bk-RjCRtY9W"
      }
    },
    {
      "cell_type": "markdown",
      "source": [
        "## Overview\n",
        "\n",
        "In this assignment, you will classify Parkinson's Disease (PD) and Healthy Control (HC) subjects using EEG data. Instead of using EEG power bands as features, you will calculate functional connectivity metrics from the EEG data and use these metrics for classification.\n",
        "\n",
        "## Objectives\n",
        "\n",
        "- **Download and prepare EEG data.**\n",
        "- **Calculate functional connectivity metrics as features.**\n",
        "- **Prepare the dataset with these features and corresponding labels.**\n",
        "- **Train an SVM classifier using these features.**\n",
        "- **Evaluate the classifier’s performance.**\n"
      ],
      "metadata": {
        "id": "-QUvBPchtcZy"
      }
    },
    {
      "cell_type": "markdown",
      "source": [
        "##Step-by-Step Guide\n",
        "###Download and Extract the Dataset:\n",
        "\n",
        "Start by downloading the provided EEG dataset for the assignment. Running the cell below will automatically download and unzip the dataset. Once completed, you'll find the preprocessed EEG signals organized into two folders: 'PD' (Parkinson's Disease) and 'HC' (Healthy Control)."
      ],
      "metadata": {
        "id": "AdfRNEr2HG36"
      }
    },
    {
      "cell_type": "markdown",
      "source": [
        "## Downalod and Extract the Dataset"
      ],
      "metadata": {
        "id": "7n9fz2tbpvc5"
      }
    },
    {
      "cell_type": "code",
      "source": [
        "# Dowloading the EDF data\n",
        "import gdown\n",
        "import os\n",
        "import zipfile\n",
        "\n",
        "eeg_arch_url = 'https://drive.google.com/uc?id=1rynIhpIAQc4OzX4nCrrnxOXMsdLt7xWD'\n",
        "\n",
        "eeg_arch_file_name = 'EEGs.zip'  # Assuming the file is now a ZIP file\n",
        "\n",
        "gdown.download(eeg_arch_url, eeg_arch_file_name, quiet=False)\n",
        "\n",
        "eeg_arch_path = os.path.join('/content', eeg_arch_file_name)\n",
        "\n",
        "# Unzip the file\n",
        "with zipfile.ZipFile(eeg_arch_path, 'r') as zip_ref:\n",
        "    zip_ref.extractall()\n",
        "\n",
        "!ls -l /content"
      ],
      "metadata": {
        "colab": {
          "base_uri": "https://localhost:8080/"
        },
        "id": "tCfdSbNz6ZzM",
        "outputId": "defc7aa0-a699-49a5-83f1-83b4e8e78423"
      },
      "execution_count": null,
      "outputs": [
        {
          "output_type": "stream",
          "name": "stderr",
          "text": [
            "Downloading...\n",
            "From (original): https://drive.google.com/uc?id=1rynIhpIAQc4OzX4nCrrnxOXMsdLt7xWD\n",
            "From (redirected): https://drive.google.com/uc?id=1rynIhpIAQc4OzX4nCrrnxOXMsdLt7xWD&confirm=t&uuid=91e4df2d-c101-4171-9789-eac1899bb13e\n",
            "To: /content/EEGs.zip\n",
            "100%|██████████| 162M/162M [00:06<00:00, 25.4MB/s]\n"
          ]
        },
        {
          "output_type": "stream",
          "name": "stdout",
          "text": [
            "total 157820\n",
            "-rw-r--r-- 1 root root 161595831 Sep  8 12:24  EEGs.zip\n",
            "drwxr-xr-x 4 root root      4096 Sep  8 12:24 'Preprocessed Uc San Diego Dataset'\n",
            "drwxr-xr-x 1 root root      4096 Sep  5 17:47  sample_data\n"
          ]
        }
      ]
    },
    {
      "cell_type": "markdown",
      "source": [
        "##Step 1: Load EEG Signals from .mat Files\n",
        "\n",
        "In this step, we load the EEG signals from the .mat files stored in the \"PD\" (Parkinson's Disease) and \"HC\" (Healthy Control) folders. We use the scipy.io module to load each .mat file, extract the EEG data, and store them in lists for further processing."
      ],
      "metadata": {
        "id": "mpDGjPfCp0-R"
      }
    },
    {
      "cell_type": "code",
      "source": [
        "# Define the paths\n",
        "base_path = \"/content/Preprocessed Uc San Diego Dataset\"\n"
      ],
      "metadata": {
        "id": "eEbxtqVcGONs"
      },
      "execution_count": null,
      "outputs": []
    },
    {
      "cell_type": "markdown",
      "source": [
        "## Step 2: Calculate Functional Connectivity\n",
        "\n",
        "In this step, you will calculate the functional connectivity for each EEG dataset. These connectivity measures will serve as the features for your machine learning classifier."
      ],
      "metadata": {
        "id": "wc1zNUXKp-48"
      }
    },
    {
      "cell_type": "code",
      "source": [
        "\n"
      ],
      "metadata": {
        "id": "fiDq2cehGQjl"
      },
      "execution_count": null,
      "outputs": []
    },
    {
      "cell_type": "markdown",
      "source": [
        "##Step 3: Prepare Labels and Combine Data\n",
        "\n",
        "In this part, you have to prepare labels for the features extracted from the EEG signals. The features from the \"PD\" folder are labeled as 1 (Parkinson's Disease), and those from the \"HC\" folder are labeled as 0 (Healthy Control). Then combine these features and labels into a single dataset for training and testing."
      ],
      "metadata": {
        "id": "aVh5-17ZqGji"
      }
    },
    {
      "cell_type": "code",
      "source": [],
      "metadata": {
        "id": "oW-NZHpcGUBY"
      },
      "execution_count": null,
      "outputs": []
    },
    {
      "cell_type": "markdown",
      "source": [
        "##Step 4: Train SVM Classifier\n",
        "\n",
        "Train an SVM classifier using the extracted features.\n",
        "Split the dataset into training and testing sets, and the SVM should be trained on the training data.\n",
        "Then predict the labels for the test set and evaluate the classifier's performance using accuracy and a detailed classification report."
      ],
      "metadata": {
        "id": "Y9lc3ekyqJ3R"
      }
    },
    {
      "cell_type": "code",
      "source": [],
      "metadata": {
        "id": "gXrysjTKGVgp"
      },
      "execution_count": null,
      "outputs": []
    },
    {
      "cell_type": "markdown",
      "source": [
        "# Step 5: Evaluate the Classifier\n",
        "\n",
        "In this step, you will evaluate the performance of your classifier using various metrics. These metrics provide insights into how well the model distinguishes between Parkinson's Disease and Healthy Control based on the EEG signals. The key metrics to evaluate are **accuracy**, **precision**, **recall**, and **F1-score**. Each of these metrics captures a different aspect of classifier performance.\n",
        "\n",
        "## 1. Accuracy\n",
        "\n",
        "- **Definition**: Accuracy measures the overall correctness of the classifier. It represents the proportion of correctly classified instances (both Parkinson's and Healthy Control) out of the total instances.\n",
        "\n",
        "- **Formula**:\n",
        "  $$\n",
        "  \\text{Accuracy} = \\frac{TP + TN}{TP + TN + FP + FN}\n",
        "  $$\n",
        "  Where:\n",
        "  - **TP**: True Positives (Parkinson’s correctly identified)\n",
        "  - **TN**: True Negatives (Healthy Controls correctly identified)\n",
        "  - **FP**: False Positives (Healthy Controls incorrectly classified as Parkinson's)\n",
        "  - **FN**: False Negatives (Parkinson's incorrectly classified as Healthy Controls)\n",
        "\n",
        "- **Interpretation**: A high accuracy means that the model is generally performing well, but it can be misleading if the dataset is imbalanced (e.g., if there are more healthy subjects than Parkinson's patients).\n",
        "\n",
        "## 2. Precision\n",
        "\n",
        "- **Definition**: Precision measures the proportion of true positive predictions out of all the positive predictions made by the model. It tells you how many of the Parkinson’s predictions were actually correct.\n",
        "\n",
        "- **Formula**:\n",
        "  $$\n",
        "  \\text{Precision} = \\frac{TP}{TP + FP}\n",
        "  $$\n",
        "\n",
        "- **Interpretation**: High precision means that when the classifier predicts a subject as having Parkinson's, it is usually correct. This metric is especially important when false positives (incorrectly labeling healthy people as Parkinson's patients) are costly or problematic.\n",
        "\n",
        "## 3. Recall (Sensitivity)\n",
        "\n",
        "- **Definition**: Recall, or sensitivity, measures the proportion of true positive instances (Parkinson’s patients) that the model correctly identifies. It is a measure of how well the model captures the actual Parkinson's cases.\n",
        "\n",
        "- **Formula**:\n",
        "  $$\n",
        "  \\text{Recall} = \\frac{TP}{TP + FN}\n",
        "  $$\n",
        "\n",
        "- **Interpretation**: A high recall means the classifier is good at detecting Parkinson's patients, but it might also increase false positives. This is important when missing a Parkinson's patient is more critical than misclassifying a healthy person.\n",
        "\n",
        "## 4. F1-Score\n",
        "\n",
        "- **Definition**: The F1-score is the harmonic mean of precision and recall. It balances the two metrics and is particularly useful when you need to account for both false positives and false negatives.\n",
        "\n",
        "- **Formula**:\n",
        "  $$\n",
        "  \\text{F1-Score} = 2 \\times \\frac{\\text{Precision} \\times \\text{Recall}}{\\text{Precision} + \\text{Recall}}\n",
        "  $$\n",
        "\n",
        "- **Interpretation**: A high F1-score indicates that the classifier has a good balance between precision and recall, which is crucial when the cost of false positives and false negatives are equally important.\n",
        "\n",
        "\n",
        "## Calculating Metrics Using Code\n",
        "\n",
        "In the provided code, the metrics are automatically calculated using built-in functions from **scikit-learn** after predicting on the test set. Here’s how the different metrics are computed:\n",
        "\n",
        "### Accuracy:\n",
        "The `accuracy_score(y_test, y_pred)` function computes the accuracy by comparing the true labels (`y_test`) with the predicted labels (`y_pred`). It calculates the proportion of correctly classified instances.\n",
        "\n",
        "```python\n",
        "print(\"Accuracy:\", accuracy_score(y_test, y_pred))\n",
        "```\n",
        "\n",
        "### Precision, Recall, and F1-Score:\n",
        "\n",
        "The `classification_report(y_test, y_pred)` generates a detailed report that includes precision, recall, and F1-score for each class (Parkinson’s and Healthy Control). It also provides the support, which is the number of true instances for each class.\n",
        "\n",
        "```python\n",
        "print(\"Classification Report:\\n\", classification_report(y_test, y_pred))\n",
        "```\n"
      ],
      "metadata": {
        "id": "e_FtJ68XqRkN"
      }
    },
    {
      "cell_type": "code",
      "source": [],
      "metadata": {
        "id": "IFk05gfRqUZ_"
      },
      "execution_count": null,
      "outputs": []
    }
  ]
}