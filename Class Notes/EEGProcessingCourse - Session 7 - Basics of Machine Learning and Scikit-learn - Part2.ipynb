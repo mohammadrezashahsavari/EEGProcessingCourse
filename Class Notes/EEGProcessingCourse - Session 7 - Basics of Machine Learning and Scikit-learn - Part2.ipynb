{
  "nbformat": 4,
  "nbformat_minor": 0,
  "metadata": {
    "colab": {
      "provenance": []
    },
    "kernelspec": {
      "name": "python3",
      "display_name": "Python 3"
    },
    "language_info": {
      "name": "python"
    }
  },
  "cells": [
    {
      "cell_type": "markdown",
      "source": [
        "# Spike Computational Neuroscience Community\n",
        "\n",
        "<div style=\"font-family: Arial, sans-serif; margin: 20px;\">\n",
        "    <h1 style=\"text-align: center; color: #333;\">EEG Processing: An Entry to the World of Brain Waves</h1>\n",
        "    <h2 style=\"text-align: center; color: #555;\">Session 7: Basics of machine learning and Scikit-learn</h2>\n",
        "    <p style=\"text-align: center; color: #666; font-size: 16px;\">\n",
        "        Author: Mohammadreza Shahsavari<br>\n",
        "        Contact: <a href=\"mailto:mohamadrezashahsavary@gmail.com\" style=\"color: #0066cc; text-decoration: none;\">mohamadrezashahsavary@gmail.com</a>\n",
        "    </p>\n",
        "</div>\n",
        "\n",
        "\n",
        "\n",
        "\n",
        "\n"
      ],
      "metadata": {
        "id": "3bk-RjCRtY9W"
      }
    },
    {
      "cell_type": "markdown",
      "source": [
        "## What is Classification?\n",
        "### Imagine We're Sorting Objects into Boxes\n",
        "\n",
        "Let's say we have two types of objects: **blue circles** and **green triangles**. These objects are scattered on a table, and we want to separate them into two different boxes: one for circles and one for triangles.\n",
        "\n",
        "But instead of physically picking them up, we're using a machine that can see where each object is on the table (like their position on a graph) and then decides which box (or class) they belong to.\n",
        "\n",
        "### The Decision Line (Boundary)\n",
        "\n",
        "In the image you provided, there's a black line on the graph. This line is like a divider on the table that separates the circles from the triangles.\n",
        "\n",
        "- **Everything on one side of the line goes into the \"Circle\" box.**\n",
        "- **Everything on the other side goes into the \"Triangle\" box.**\n",
        "\n",
        "### How Does the Machine Know Where to Draw the Line?\n",
        "\n",
        "The machine (which in this case is a **Support Vector Machine**, or SVM) looks at the positions of all the objects (circles and triangles) and tries to find the best place to draw the line so that:\n",
        "\n",
        "- All the circles are on one side of the line.\n",
        "- All the triangles are on the other side.\n",
        "\n",
        "The machine wants to make sure that the line is placed in a way that it can confidently separate the circles and triangles, even if we add new objects later. It tries to find the line that leaves the biggest gap (or margin) between the closest circle and triangle.\n",
        "\n",
        "### What Happens When We Add a New Object?\n",
        "\n",
        "Imagine we find a new object and we don’t know if it’s a circle or a triangle yet. We place it on the table, and the machine looks at which side of the line it falls on:\n",
        "\n",
        "- If it’s on the circle side, the machine will say, “This must be a circle!” and put it in the circle box.\n",
        "- If it’s on the triangle side, the machine will say, “This must be a triangle!” and put it in the triangle box.\n",
        "\n",
        "### In Summary\n",
        "\n",
        "Classification is like teaching a machine to draw a line (or boundary) on a graph so it can separate and identify different types of objects. Once it learns this, it can sort new objects into the correct categories based on which side of the line they fall on.\n"
      ],
      "metadata": {
        "id": "-QUvBPchtcZy"
      }
    },
    {
      "cell_type": "markdown",
      "source": [
        "![d0eafcb3-1a12-430b-8bb5-6f6bbff1a4b3.jpg](data:image/jpeg;base64,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)"
      ],
      "metadata": {
        "id": "RcmM_MetuEay"
      }
    },
    {
      "cell_type": "markdown",
      "source": [
        "# Let's classify Parkinson's disease\n",
        "Here, we aim to perform a binary (2-class) classification to distinguish Parkinson's patients from healthy controls using EEG band power features."
      ],
      "metadata": {
        "id": "iG7Zc3epuUT0"
      }
    },
    {
      "cell_type": "markdown",
      "source": [
        "## Downalod and Extract the Dataset"
      ],
      "metadata": {
        "id": "7n9fz2tbpvc5"
      }
    },
    {
      "cell_type": "code",
      "source": [
        "# Dowloading the EDF data\n",
        "import gdown\n",
        "import os\n",
        "import zipfile\n",
        "\n",
        "eeg_arch_url = 'https://drive.google.com/uc?id=1rynIhpIAQc4OzX4nCrrnxOXMsdLt7xWD'\n",
        "\n",
        "eeg_arch_file_name = 'EEGs.zip'  # Assuming the file is now a ZIP file\n",
        "\n",
        "gdown.download(eeg_arch_url, eeg_arch_file_name, quiet=False)\n",
        "\n",
        "eeg_arch_path = os.path.join('/content', eeg_arch_file_name)\n",
        "\n",
        "# Unzip the file\n",
        "with zipfile.ZipFile(eeg_arch_path, 'r') as zip_ref:\n",
        "    zip_ref.extractall()\n",
        "\n",
        "!ls -l /content"
      ],
      "metadata": {
        "colab": {
          "base_uri": "https://localhost:8080/"
        },
        "id": "tCfdSbNz6ZzM",
        "outputId": "8e9c4b52-4338-4783-a83b-60b322274d72"
      },
      "execution_count": null,
      "outputs": [
        {
          "output_type": "stream",
          "name": "stderr",
          "text": [
            "Downloading...\n",
            "From (original): https://drive.google.com/uc?id=1rynIhpIAQc4OzX4nCrrnxOXMsdLt7xWD\n",
            "From (redirected): https://drive.google.com/uc?id=1rynIhpIAQc4OzX4nCrrnxOXMsdLt7xWD&confirm=t&uuid=52f16206-163a-4da2-bb6c-1bc6c8235451\n",
            "To: /content/EEGs.zip\n",
            "100%|██████████| 162M/162M [00:01<00:00, 88.4MB/s]\n"
          ]
        },
        {
          "output_type": "stream",
          "name": "stdout",
          "text": [
            "total 157820\n",
            "-rw-r--r-- 1 root root 161595831 Aug 24 15:26  EEGs.zip\n",
            "drwxr-xr-x 4 root root      4096 Aug 24 13:59 'Preprocessed Uc San Diego Dataset'\n",
            "drwxr-xr-x 1 root root      4096 Aug 22 13:24  sample_data\n"
          ]
        }
      ]
    },
    {
      "cell_type": "markdown",
      "source": [
        "##Step 1: Load EEG Signals from .mat Files\n",
        "\n",
        "In this step, we load the EEG signals from the .mat files stored in the \"PD\" (Parkinson's Disease) and \"HC\" (Healthy Control) folders. We use the scipy.io module to load each .mat file, extract the EEG data, and store them in lists for further processing."
      ],
      "metadata": {
        "id": "mpDGjPfCp0-R"
      }
    },
    {
      "cell_type": "code",
      "source": [
        "import os\n",
        "from scipy.io import loadmat\n",
        "import numpy as np\n",
        "\n",
        "# Define the paths\n",
        "base_path = \"/content/Preprocessed Uc San Diego Dataset\"\n",
        "pd_path = os.path.join(base_path, \"PD\")\n",
        "hc_path = os.path.join(base_path, \"HC\")\n",
        "\n",
        "# Get list of files\n",
        "pd_files = [os.path.join(pd_path, f) for f in os.listdir(pd_path) if f.endswith('.mat')]\n",
        "hc_files = [os.path.join(hc_path, f) for f in os.listdir(hc_path) if f.endswith('.mat')]\n",
        "\n",
        "# Function to load .mat files\n",
        "def load_mat_file(filepath):\n",
        "    mat = loadmat(filepath)\n",
        "    # Assuming EEG data is stored under a specific key, e.g., 'data'\n",
        "    # Modify this depending on the actual structure of your .mat files\n",
        "    return mat['time'][:32, :]\n",
        "\n",
        "# Load all EEG signals\n",
        "pd_signals = [load_mat_file(f) for f in pd_files]\n",
        "hc_signals = [load_mat_file(f) for f in hc_files]\n",
        "\n"
      ],
      "metadata": {
        "id": "eEbxtqVcGONs"
      },
      "execution_count": null,
      "outputs": []
    },
    {
      "cell_type": "markdown",
      "source": [
        "## Step 2: Calculate Power Bands\n",
        "\n",
        "In this step, we calculate the power in specific frequency bands (like delta, theta, alpha, beta, gamma) from each EEG signal. These calculated power values act as features that we will use to train our SVM classifier.\n",
        "\n",
        "### Why Do We Need to Extract Features?\n",
        "\n",
        "Traditional machine learning models like SVM are not designed to handle complex, raw data like EEG signals directly. Unlike deep learning models, which can automatically learn patterns from raw data, SVMs need simpler, more structured inputs to work effectively. Here’s why feature extraction is important:\n",
        "\n",
        "- **Simplifies the Data:** Raw EEG signals are very complex and contain a lot of noise. SVMs can't easily make sense of this complexity. By extracting features (like power in specific frequency bands), we turn the raw data into simpler, more meaningful information that the SVM can process.\n",
        "\n",
        "- **Improves Model Accuracy:** Extracting relevant features helps the SVM focus on the most important aspects of the data, which leads to better performance and more accurate classifications.\n",
        "\n",
        "- **Makes the Model More Efficient:** Handling raw data would be too much for an SVM, leading to slow and inefficient training. Feature extraction reduces the amount of data the SVM has to process, making it faster and more effective.\n",
        "\n",
        "In simple terms, because traditional models like SVM aren't built to handle the raw complexity of EEG data, we extract features to make the data easier for them to understand and work with. This step is crucial for getting good results with an SVM.\n"
      ],
      "metadata": {
        "id": "wc1zNUXKp-48"
      }
    },
    {
      "cell_type": "code",
      "source": [
        "from scipy.signal import welch\n",
        "\n",
        "# Define frequency bands\n",
        "bands = {\n",
        "    \"delta\": (0.5, 4),\n",
        "    \"theta\": (4, 8),\n",
        "    \"alpha\": (8, 13),\n",
        "    \"beta\": (13, 30),\n",
        "    \"gamma\": (30, 45)\n",
        "}\n",
        "\n",
        "def calculate_power_bands(signal, fs=256):  # Assuming a sampling frequency (fs) of 128 Hz\n",
        "    power_bands = {}\n",
        "    freqs, psd = welch(signal, fs=fs, nperseg=256)\n",
        "    for band, (low, high) in bands.items():\n",
        "        idx_band = np.logical_and(freqs >= low, freqs <= high)\n",
        "        power_bands[band] = np.trapz(psd[idx_band], freqs[idx_band])\n",
        "    return power_bands\n",
        "\n",
        "# Calculate power bands for each signal and each channel\n",
        "def extract_features(signals):\n",
        "    features = []\n",
        "    for signal in signals:\n",
        "        # Assuming signal shape is (channels, samples)\n",
        "        signal_features = []\n",
        "        for channel in signal:\n",
        "            power_band = calculate_power_bands(channel)\n",
        "            signal_features.extend(power_band.values())\n",
        "        features.append(signal_features)\n",
        "    return np.array(features)\n",
        "\n",
        "pd_features = extract_features(pd_signals)\n",
        "hc_features = extract_features(hc_signals)\n"
      ],
      "metadata": {
        "id": "fiDq2cehGQjl"
      },
      "execution_count": null,
      "outputs": []
    },
    {
      "cell_type": "code",
      "source": [
        "print(hc_features.shape)"
      ],
      "metadata": {
        "colab": {
          "base_uri": "https://localhost:8080/"
        },
        "id": "Fgwd23TNHY57",
        "outputId": "f3f689a8-1dc5-4aae-bda4-cbbcc143f017"
      },
      "execution_count": null,
      "outputs": [
        {
          "output_type": "stream",
          "name": "stdout",
          "text": [
            "(500, 160)\n"
          ]
        }
      ]
    },
    {
      "cell_type": "markdown",
      "source": [
        "##Step 3: Prepare Labels and Combine Data\n",
        "\n",
        "In this part, we prepare labels for the features extracted from the EEG signals. The features from the \"PD\" folder are labeled as 1 (Parkinson's Disease), and those from the \"HC\" folder are labeled as 0 (Healthy Control). We then combine these features and labels into a single dataset for training and testing."
      ],
      "metadata": {
        "id": "aVh5-17ZqGji"
      }
    },
    {
      "cell_type": "code",
      "source": [
        "# Labels\n",
        "pd_labels = np.ones(len(pd_features))\n",
        "hc_labels = np.zeros(len(hc_features))\n",
        "\n",
        "# Combine the data and labels\n",
        "X = np.vstack((pd_features, hc_features))\n",
        "y = np.hstack((pd_labels, hc_labels))\n"
      ],
      "metadata": {
        "id": "oW-NZHpcGUBY"
      },
      "execution_count": null,
      "outputs": []
    },
    {
      "cell_type": "code",
      "source": [
        "i = 54\n",
        "\n",
        "print(\"features: \", X[i, :], 'belong to class:', y[i])\n",
        "\n"
      ],
      "metadata": {
        "colab": {
          "base_uri": "https://localhost:8080/"
        },
        "id": "9LPZDlhNE6VB",
        "outputId": "64468f48-ace0-4daa-fbfd-609b1bf6939a"
      },
      "execution_count": null,
      "outputs": [
        {
          "output_type": "stream",
          "name": "stdout",
          "text": [
            "features:  [0.12877343 0.11310185 0.01850307 0.03100546 0.02033406 0.0858336\n",
            " 0.07255566 0.01575231 0.02999503 0.02061899 0.18710858 0.13568302\n",
            " 0.01173343 0.06099903 0.06399526 0.06509882 0.03559817 0.01275917\n",
            " 0.02984479 0.0211282  0.03718942 0.02279313 0.00686987 0.01940718\n",
            " 0.0146176  0.04472819 0.03785375 0.01412185 0.0644625  0.08978252\n",
            " 0.0435159  0.02840412 0.0188116  0.16540653 0.32670777 0.01718987\n",
            " 0.01199288 0.01112209 0.02497834 0.02466415 0.02014805 0.01022219\n",
            " 0.01141189 0.0143056  0.00839541 0.01361129 0.01608188 0.01822327\n",
            " 0.04060291 0.04405831 0.05191469 0.04781728 0.06545422 0.15825108\n",
            " 0.13382745 0.02584624 0.02429222 0.0332953  0.02560788 0.01630299\n",
            " 0.03571706 0.0384023  0.01941488 0.02171601 0.00816307 0.03799404\n",
            " 0.06220225 0.04810773 0.0433839  0.02187389 0.03788931 0.10252756\n",
            " 0.08797607 0.07520056 0.05498366 0.06563617 0.1207296  0.07450217\n",
            " 0.07754469 0.05166827 0.06803429 0.09932916 0.04886026 0.06881078\n",
            " 0.04283546 0.05161684 0.10990641 0.03938818 0.03865146 0.01714924\n",
            " 0.02802771 0.03727491 0.01338034 0.02574453 0.01159965 0.02685925\n",
            " 0.05809552 0.03882315 0.09223278 0.06398404 0.01420528 0.02610818\n",
            " 0.01411385 0.05126708 0.0270742  0.02416444 0.01367315 0.00712064\n",
            " 0.01559192 0.00741169 0.01965267 0.01977942 0.00593951 0.03873252\n",
            " 0.02463414 0.03162941 0.0608039  0.03098038 0.18847146 0.19461133\n",
            " 0.03989437 0.06523359 0.0100897  0.10607707 0.08784315 0.03393753\n",
            " 0.03100662 0.00721584 0.01876378 0.01381007 0.03949113 0.0689992\n",
            " 0.01812677 0.04545994 0.02166112 0.08310984 0.11307881 0.0203895\n",
            " 0.05609663 0.04728821 0.05294928 0.09414356 0.01819018 0.11494384\n",
            " 0.05671698 0.29372304 0.1775204  0.0209463  0.12533698 0.10630305\n",
            " 0.0524731  0.04264587 0.00725038 0.01908863 0.01351074 0.02724186\n",
            " 0.01667196 0.00469763 0.01299516 0.00807489] belong to class: 1.0\n"
          ]
        }
      ]
    },
    {
      "cell_type": "markdown",
      "source": [
        "##Step 4: Train SVM Classifier\n",
        "\n",
        "We train an SVM classifier using the extracted features. The dataset is split into training and testing sets, and the SVM is trained on the training data. We then predict the labels for the test set and evaluate the classifier's performance using accuracy and a detailed classification report."
      ],
      "metadata": {
        "id": "Y9lc3ekyqJ3R"
      }
    },
    {
      "cell_type": "code",
      "source": [
        "from sklearn.model_selection import train_test_split\n",
        "from sklearn.svm import SVC\n",
        "from sklearn.metrics import accuracy_score, classification_report\n",
        "\n",
        "# Split the data into train and test sets\n",
        "X_train, X_test, y_train, y_test = train_test_split(X, y, test_size=0.2, random_state=42)\n",
        "\n",
        "\n",
        "# Train the SVM classifier\n",
        "svm_classifier = SVC(kernel='linear')\n",
        "svm_classifier.fit(X_train, y_train)\n"
      ],
      "metadata": {
        "colab": {
          "base_uri": "https://localhost:8080/",
          "height": 74
        },
        "id": "gXrysjTKGVgp",
        "outputId": "31d8ef3b-7778-4526-8b8c-0d2ee3d44914"
      },
      "execution_count": null,
      "outputs": [
        {
          "output_type": "execute_result",
          "data": {
            "text/plain": [
              "SVC(kernel='linear')"
            ],
            "text/html": [
              "<style>#sk-container-id-6 {color: black;}#sk-container-id-6 pre{padding: 0;}#sk-container-id-6 div.sk-toggleable {background-color: white;}#sk-container-id-6 label.sk-toggleable__label {cursor: pointer;display: block;width: 100%;margin-bottom: 0;padding: 0.3em;box-sizing: border-box;text-align: center;}#sk-container-id-6 label.sk-toggleable__label-arrow:before {content: \"▸\";float: left;margin-right: 0.25em;color: #696969;}#sk-container-id-6 label.sk-toggleable__label-arrow:hover:before {color: black;}#sk-container-id-6 div.sk-estimator:hover label.sk-toggleable__label-arrow:before {color: black;}#sk-container-id-6 div.sk-toggleable__content {max-height: 0;max-width: 0;overflow: hidden;text-align: left;background-color: #f0f8ff;}#sk-container-id-6 div.sk-toggleable__content pre {margin: 0.2em;color: black;border-radius: 0.25em;background-color: #f0f8ff;}#sk-container-id-6 input.sk-toggleable__control:checked~div.sk-toggleable__content {max-height: 200px;max-width: 100%;overflow: auto;}#sk-container-id-6 input.sk-toggleable__control:checked~label.sk-toggleable__label-arrow:before {content: \"▾\";}#sk-container-id-6 div.sk-estimator input.sk-toggleable__control:checked~label.sk-toggleable__label {background-color: #d4ebff;}#sk-container-id-6 div.sk-label input.sk-toggleable__control:checked~label.sk-toggleable__label {background-color: #d4ebff;}#sk-container-id-6 input.sk-hidden--visually {border: 0;clip: rect(1px 1px 1px 1px);clip: rect(1px, 1px, 1px, 1px);height: 1px;margin: -1px;overflow: hidden;padding: 0;position: absolute;width: 1px;}#sk-container-id-6 div.sk-estimator {font-family: monospace;background-color: #f0f8ff;border: 1px dotted black;border-radius: 0.25em;box-sizing: border-box;margin-bottom: 0.5em;}#sk-container-id-6 div.sk-estimator:hover {background-color: #d4ebff;}#sk-container-id-6 div.sk-parallel-item::after {content: \"\";width: 100%;border-bottom: 1px solid gray;flex-grow: 1;}#sk-container-id-6 div.sk-label:hover label.sk-toggleable__label {background-color: #d4ebff;}#sk-container-id-6 div.sk-serial::before {content: \"\";position: absolute;border-left: 1px solid gray;box-sizing: border-box;top: 0;bottom: 0;left: 50%;z-index: 0;}#sk-container-id-6 div.sk-serial {display: flex;flex-direction: column;align-items: center;background-color: white;padding-right: 0.2em;padding-left: 0.2em;position: relative;}#sk-container-id-6 div.sk-item {position: relative;z-index: 1;}#sk-container-id-6 div.sk-parallel {display: flex;align-items: stretch;justify-content: center;background-color: white;position: relative;}#sk-container-id-6 div.sk-item::before, #sk-container-id-6 div.sk-parallel-item::before {content: \"\";position: absolute;border-left: 1px solid gray;box-sizing: border-box;top: 0;bottom: 0;left: 50%;z-index: -1;}#sk-container-id-6 div.sk-parallel-item {display: flex;flex-direction: column;z-index: 1;position: relative;background-color: white;}#sk-container-id-6 div.sk-parallel-item:first-child::after {align-self: flex-end;width: 50%;}#sk-container-id-6 div.sk-parallel-item:last-child::after {align-self: flex-start;width: 50%;}#sk-container-id-6 div.sk-parallel-item:only-child::after {width: 0;}#sk-container-id-6 div.sk-dashed-wrapped {border: 1px dashed gray;margin: 0 0.4em 0.5em 0.4em;box-sizing: border-box;padding-bottom: 0.4em;background-color: white;}#sk-container-id-6 div.sk-label label {font-family: monospace;font-weight: bold;display: inline-block;line-height: 1.2em;}#sk-container-id-6 div.sk-label-container {text-align: center;}#sk-container-id-6 div.sk-container {/* jupyter's `normalize.less` sets `[hidden] { display: none; }` but bootstrap.min.css set `[hidden] { display: none !important; }` so we also need the `!important` here to be able to override the default hidden behavior on the sphinx rendered scikit-learn.org. See: https://github.com/scikit-learn/scikit-learn/issues/21755 */display: inline-block !important;position: relative;}#sk-container-id-6 div.sk-text-repr-fallback {display: none;}</style><div id=\"sk-container-id-6\" class=\"sk-top-container\"><div class=\"sk-text-repr-fallback\"><pre>SVC(kernel=&#x27;linear&#x27;)</pre><b>In a Jupyter environment, please rerun this cell to show the HTML representation or trust the notebook. <br />On GitHub, the HTML representation is unable to render, please try loading this page with nbviewer.org.</b></div><div class=\"sk-container\" hidden><div class=\"sk-item\"><div class=\"sk-estimator sk-toggleable\"><input class=\"sk-toggleable__control sk-hidden--visually\" id=\"sk-estimator-id-6\" type=\"checkbox\" checked><label for=\"sk-estimator-id-6\" class=\"sk-toggleable__label sk-toggleable__label-arrow\">SVC</label><div class=\"sk-toggleable__content\"><pre>SVC(kernel=&#x27;linear&#x27;)</pre></div></div></div></div></div>"
            ]
          },
          "metadata": {},
          "execution_count": 32
        }
      ]
    },
    {
      "cell_type": "markdown",
      "source": [
        "##Step 5: Evaluate the Classifier\n",
        "\n",
        "Finally, we evaluate the classifier's performance using metrics like accuracy, precision, recall, and F1-score, which are provided in the classification report. This evaluation helps us understand how well our model is performing in distinguishing between Parkinson's Disease and Healthy Control based on the EEG signals."
      ],
      "metadata": {
        "id": "e_FtJ68XqRkN"
      }
    },
    {
      "cell_type": "code",
      "source": [
        "# Predict on the test set\n",
        "y_pred = svm_classifier.predict(X_test)\n",
        "\n",
        "# Evaluate the classifier\n",
        "print(\"Accuracy:\", accuracy_score(y_test, y_pred))\n",
        "print(\"Classification Report:\\n\", classification_report(y_test, y_pred))"
      ],
      "metadata": {
        "colab": {
          "base_uri": "https://localhost:8080/"
        },
        "id": "IFk05gfRqUZ_",
        "outputId": "31ddbf18-357b-4804-a47b-d2935950bd91"
      },
      "execution_count": null,
      "outputs": [
        {
          "output_type": "stream",
          "name": "stdout",
          "text": [
            "Accuracy: 1.0\n",
            "Classification Report:\n",
            "               precision    recall  f1-score   support\n",
            "\n",
            "         0.0       1.00      1.00      1.00       104\n",
            "         1.0       1.00      1.00      1.00        96\n",
            "\n",
            "    accuracy                           1.00       200\n",
            "   macro avg       1.00      1.00      1.00       200\n",
            "weighted avg       1.00      1.00      1.00       200\n",
            "\n"
          ]
        }
      ]
    },
    {
      "cell_type": "code",
      "source": [
        "def predict(signal):\n",
        "  return 0"
      ],
      "metadata": {
        "id": "1IqNjYujNQjE"
      },
      "execution_count": null,
      "outputs": []
    }
  ]
}